{
 "cells": [
  {
   "cell_type": "code",
   "execution_count": 4,
   "metadata": {},
   "outputs": [],
   "source": [
    "import requests\n",
    "from bs4 import BeautifulSoup"
   ]
  },
  {
   "cell_type": "code",
   "execution_count": 5,
   "metadata": {},
   "outputs": [],
   "source": [
    "URL = 'http://tinywebdb.appinventor.mit.edu/getvalue'\n",
    "DATA = 'tag=fatec-space-avaliacoes&fmt=html'\n",
    "HEADERS = {\n",
    "    'user-agent': 'my-app'\n",
    "}"
   ]
  },
  {
   "cell_type": "code",
   "execution_count": 10,
   "metadata": {},
   "outputs": [],
   "source": [
    "request = requests.post(URL, data=DATA, headers=HEADERS)\n",
    "soup = BeautifulSoup(request.text, 'lxml')\n",
    "content_c = soup.find_all('p')[1].text"
   ]
  },
  {
   "cell_type": "code",
   "execution_count": 11,
   "metadata": {},
   "outputs": [
    {
     "data": {
      "text/plain": [
       "'\\n[\"VALUE\",\"fatec-space-avaliacoes\",\"[[\\\\\"456\\\\\",[[\\\\\"Jogabilidade\\\\\",4],[\\\\\"Controles\\\\\",2],[\\\\\"Layout\\\\\",1],[\\\\\"Criatividade\\\\\",1]]],[\\\\\"vitebo\\\\\",[[\\\\\"Jogabilidade\\\\\",3],[\\\\\"Controles\\\\\",3],[\\\\\"Layout\\\\\",3],[\\\\\"Criatividade\\\\\",3]]],[\\\\\"teste\\\\\",[[\\\\\"Jogabilidade\\\\\",4],[\\\\\"Controles\\\\\",5],[\\\\\"Layout\\\\\",3],[\\\\\"Criatividade\\\\\",5]]]]\"]'"
      ]
     },
     "execution_count": 11,
     "metadata": {},
     "output_type": "execute_result"
    }
   ],
   "source": [
    "content = content_c\n",
    "content"
   ]
  },
  {
   "cell_type": "code",
   "execution_count": 12,
   "metadata": {},
   "outputs": [],
   "source": [
    "columns = {\n",
    "    'Usuário': [],\n",
    "    'Jogabilidade': [],\n",
    "    'Controles': [],\n",
    "    'Layout': [],\n",
    "    'Criatividade': []\n",
    "}"
   ]
  },
  {
   "cell_type": "code",
   "execution_count": 13,
   "metadata": {},
   "outputs": [
    {
     "data": {
      "text/plain": [
       "['456',\n",
       " '',\n",
       " '4',\n",
       " '2',\n",
       " '1',\n",
       " '1',\n",
       " 'vitebo',\n",
       " '',\n",
       " '3',\n",
       " '3',\n",
       " '3',\n",
       " '3',\n",
       " 'teste',\n",
       " '',\n",
       " '4',\n",
       " '5',\n",
       " '3']"
      ]
     },
     "execution_count": 13,
     "metadata": {},
     "output_type": "execute_result"
    }
   ],
   "source": [
    "content = content_c\n",
    "content = content.replace('\\n', '')\n",
    "content = content.replace('\\\\', '')\n",
    "content = content.replace('\\\"', '')\n",
    "content = content.replace(']', '')\n",
    "content = content.replace(',', '')\n",
    "content = content.replace('Jogabilidade', '')\n",
    "content = content.replace('Controles', '')\n",
    "content = content.replace('Layout', '')\n",
    "content = content.replace('Criatividade', '')\n",
    "content = content[30:-2]\n",
    "content = content.split('[')\n",
    "content"
   ]
  }
 ],
 "metadata": {
  "kernelspec": {
   "display_name": "Python 3",
   "language": "python",
   "name": "python3"
  },
  "language_info": {
   "codemirror_mode": {
    "name": "ipython",
    "version": 3
   },
   "file_extension": ".py",
   "mimetype": "text/x-python",
   "name": "python",
   "nbconvert_exporter": "python",
   "pygments_lexer": "ipython3",
   "version": "3.7.1"
  }
 },
 "nbformat": 4,
 "nbformat_minor": 2
}
